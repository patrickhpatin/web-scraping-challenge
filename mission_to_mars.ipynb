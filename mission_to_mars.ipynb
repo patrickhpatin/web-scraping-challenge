{
 "cells": [
  {
   "cell_type": "markdown",
   "metadata": {},
   "source": [
    "# Mission to Mars"
   ]
  },
  {
   "cell_type": "code",
   "execution_count": 1,
   "metadata": {},
   "outputs": [],
   "source": [
    "# Dependencies\n",
    "import pandas as pd\n",
    "import time as time\n",
    "from splinter import Browser\n",
    "from bs4 import BeautifulSoup\n",
    "from pprint import pprint"
   ]
  },
  {
   "cell_type": "code",
   "execution_count": 2,
   "metadata": {},
   "outputs": [],
   "source": [
    "# Initialize the chrome browser\n",
    "# @NOTE: Replace the path with your actual path to the chromedriver\n",
    "executable_path = {\"executable_path\": \"chrome_driver\\chromedriver\"}\n",
    "browser = Browser(\"chrome\", **executable_path, headless=False)\n",
    "\n",
    "# This delay varies based on the user's internet speed and how fast the JavaScript loads on the destination page\n",
    "# 5 seems to work every time.  3 doesn't work at GT consistently.\n",
    "sleep_delay = 5"
   ]
  },
  {
   "cell_type": "code",
   "execution_count": 22,
   "metadata": {},
   "outputs": [],
   "source": [
    "# Function for navigating to a web page (we'll reuse this several times)\n",
    "def init_page(url):\n",
    "    # url = \"https://mars.nasa.gov/news/\"\n",
    "    browser.visit(url)\n",
    "    time.sleep(sleep_delay)\n",
    "\n",
    "    html = browser.html\n",
    "    ret_soup = BeautifulSoup(html, \"html.parser\")\n",
    "    return ret_soup\n",
    "\n",
    "# Function for following links on pages\n",
    "def click_link(button_text):\n",
    "    browser.click_link_by_partial_text(button_text)\n",
    "    time.sleep(sleep_delay)\n",
    "    \n",
    "    html = browser.html\n",
    "    ret_soup = BeautifulSoup(html, \"html.parser\")\n",
    "    return ret_soup\n",
    "\n",
    "# Function cleans up text by removing \"\\\", removing \" Enhanced\" and replacing \" with '\n",
    "def clean_text(text_to_clean):\n",
    "    cleaned_text = text_to_clean.replace(\"\\'\", \"'\")\n",
    "    cleaned_text = cleaned_text.replace('\"', \"'\")\n",
    "    cleaned_text = cleaned_text.replace(' Enhanced', \"\")\n",
    "    cleaned_text = cleaned_text.replace(\"\\n\", \"\")\n",
    "    \n",
    "    return cleaned_text"
   ]
  },
  {
   "cell_type": "code",
   "execution_count": 4,
   "metadata": {},
   "outputs": [
    {
     "name": "stdout",
     "output_type": "stream",
     "text": [
      "Virginia Middle School Student Earns Honor of Naming NASA's Next Mars Rover\n",
      "(\"NASA chose a seventh-grader from Virginia as winner of the agency's 'Name \"\n",
      " \"the Rover' essay contest. Alexander Mather's entry for 'Perseverance' was \"\n",
      " 'voted tops among 28,000 entries. ')\n"
     ]
    }
   ],
   "source": [
    "soup = init_page(\"https://mars.nasa.gov/news/\")\n",
    "\n",
    "news_title = clean_text(soup.find_all(\"div\", class_=\"content_title\")[1].find(\"a\").text)\n",
    "print(news_title)\n",
    "\n",
    "news_p = clean_text(soup.find_all(\"div\", class_=\"image_and_description_container\")[0].find(\"div\", class_=\"article_teaser_body\").text)\n",
    "pprint(news_p)"
   ]
  },
  {
   "cell_type": "code",
   "execution_count": 5,
   "metadata": {},
   "outputs": [
    {
     "name": "stderr",
     "output_type": "stream",
     "text": [
      "C:\\Users\\p_pat\\Anaconda3\\lib\\site-packages\\splinter\\driver\\webdriver\\__init__.py:528: FutureWarning: browser.find_link_by_partial_text is deprecated. Use browser.links.find_by_partial_text instead.\n",
      "  FutureWarning,\n"
     ]
    }
   ],
   "source": [
    "base_url = \"https://www.jpl.nasa.gov\"\n",
    "url = base_url + \"/spaceimages/?search=&category=Mars\"\n",
    "soup = init_page(url)\n",
    "soup = click_link(\"FULL IMAGE\")\n",
    "soup = click_link(\"more info\")"
   ]
  },
  {
   "cell_type": "code",
   "execution_count": 6,
   "metadata": {},
   "outputs": [
    {
     "name": "stdout",
     "output_type": "stream",
     "text": [
      "https://www.jpl.nasa.gov/spaceimages/images/largesize/PIA17900_hires.jpg\n"
     ]
    }
   ],
   "source": [
    "featured_image_url = soup.find(\"figure\", class_=\"lede\").find(\"a\")[\"href\"]\n",
    "featured_image_url = base_url + featured_image_url\n",
    "\n",
    "print(featured_image_url)"
   ]
  },
  {
   "cell_type": "code",
   "execution_count": 23,
   "metadata": {},
   "outputs": [
    {
     "name": "stdout",
     "output_type": "stream",
     "text": [
      "('InSight sol 455 (2020-03-08) low -95.4ºC (-139.8ºF) high -13.0ºC '\n",
      " '(8.5ºF)winds from the SSE at 6.0 m/s (13.5 mph) gusting to 20.7 m/s (46.2 '\n",
      " 'mph)pressure at 6.40 hPa')\n"
     ]
    }
   ],
   "source": [
    "soup = init_page(\"https://twitter.com/marswxreport?lang=en\")\n",
    "for i in range(500):\n",
    "    mars_weather = soup.find_all(\"span\", class_=\"css-901oao css-16my406 r-1qd0xha r-ad9z0x r-bcqeeo r-qvutc0\")[i].text\n",
    "    if \"InSight sol\" in mars_weather:\n",
    "        break\n",
    "    # end if\n",
    "# end for\n",
    "\n",
    "# Remove the \"\\n\" characters\n",
    "mars_weather = clean_text(mars_weather)\n",
    "\n",
    "pprint(mars_weather)"
   ]
  },
  {
   "cell_type": "code",
   "execution_count": 24,
   "metadata": {},
   "outputs": [
    {
     "name": "stdout",
     "output_type": "stream",
     "text": [
      "('<table class=\"tablepress tablepress-id-p-mars\" '\n",
      " 'id=\"tablepress-p-mars\"><tbody><tr class=\"row-1 odd\"><td '\n",
      " 'class=\"column-1\"><strong>Equatorial Diameter:</strong></td><td '\n",
      " 'class=\"column-2\">6,792 km<br/></td></tr><tr class=\"row-2 even\"><td '\n",
      " 'class=\"column-1\"><strong>Polar Diameter:</strong></td><td '\n",
      " 'class=\"column-2\">6,752 km<br/></td></tr><tr class=\"row-3 odd\"><td '\n",
      " 'class=\"column-1\"><strong>Mass:</strong></td><td class=\"column-2\">6.39 × '\n",
      " '10^23 kg<br/> (0.11 Earths)</td></tr><tr class=\"row-4 even\"><td '\n",
      " 'class=\"column-1\"><strong>Moons:</strong></td><td class=\"column-2\">2 (<a '\n",
      " 'href=\"https://space-facts.com/moons/phobos/\">Phobos</a> &amp; <a '\n",
      " 'href=\"https://space-facts.com/moons/deimos/\">Deimos</a>)</td></tr><tr '\n",
      " 'class=\"row-5 odd\"><td class=\"column-1\"><strong>Orbit '\n",
      " 'Distance:</strong></td><td class=\"column-2\">227,943,824 km<br/> (1.38 '\n",
      " 'AU)</td></tr><tr class=\"row-6 even\"><td class=\"column-1\"><strong>Orbit '\n",
      " 'Period:</strong></td><td class=\"column-2\">687 days (1.9 '\n",
      " 'years)<br/></td></tr><tr class=\"row-7 odd\"><td '\n",
      " 'class=\"column-1\"><strong>Surface Temperature: </strong></td><td '\n",
      " 'class=\"column-2\">-87 to -5 °C</td></tr><tr class=\"row-8 even\"><td '\n",
      " 'class=\"column-1\"><strong>First Record:</strong></td><td class=\"column-2\">2nd '\n",
      " 'millennium BC</td></tr><tr class=\"row-9 odd\"><td '\n",
      " 'class=\"column-1\"><strong>Recorded By:</strong></td><td '\n",
      " 'class=\"column-2\">Egyptian astronomers</td></tr></tbody></table>')\n"
     ]
    }
   ],
   "source": [
    "soup = init_page(\"https://space-facts.com/mars/\")\n",
    "mars_table = str(soup.find(\"table\", class_=\"tablepress tablepress-id-p-mars\"))\n",
    "pprint(mars_table)"
   ]
  },
  {
   "cell_type": "code",
   "execution_count": 25,
   "metadata": {},
   "outputs": [
    {
     "name": "stdout",
     "output_type": "stream",
     "text": [
      "[{'img_url': 'https://astrogeology.usgs.gov/cache/images/cfa62af2557222a02478f1fcd781d445_cerberus_enhanced.tif_full.jpg',\n",
      "  'title': 'Cerberus Hemisphere'},\n",
      " {'img_url': 'https://astrogeology.usgs.gov/cache/images/3cdd1cbf5e0813bba925c9030d13b62e_schiaparelli_enhanced.tif_full.jpg',\n",
      "  'title': 'Schiaparelli Hemisphere'},\n",
      " {'img_url': 'https://astrogeology.usgs.gov/cache/images/ae209b4e408bb6c3e67b6af38168cf28_syrtis_major_enhanced.tif_full.jpg',\n",
      "  'title': 'Syrtis Major Hemisphere'},\n",
      " {'img_url': 'https://astrogeology.usgs.gov/cache/images/7cf2da4bf549ed01c17f206327be4db7_valles_marineris_enhanced.tif_full.jpg',\n",
      "  'title': 'Valles Marineris Hemisphere'}]\n"
     ]
    }
   ],
   "source": [
    "hemisphere_image_urls = []\n",
    "base_url = \"https://astrogeology.usgs.gov\"\n",
    "\n",
    "for i in range(4):\n",
    "    soup = init_page(\"https://astrogeology.usgs.gov/search/results?q=hemisphere+enhanced&k1=target&v1=Mars\")\n",
    "    title = soup.find(\"div\", class_=\"collapsible results\").find_all(\"h3\")[i].text\n",
    "    \n",
    "    soup = click_link(title)\n",
    "    img_url = base_url + soup.find(\"img\", class_=\"wide-image\")[\"src\"]\n",
    "    title = clean_text(title)\n",
    "    \n",
    "    hemisphere_image_urls.append({\"title\": title, \"img_url\": img_url})\n",
    "\n",
    "pprint(hemisphere_image_urls)"
   ]
  },
  {
   "cell_type": "code",
   "execution_count": 33,
   "metadata": {},
   "outputs": [
    {
     "name": "stdout",
     "output_type": "stream",
     "text": [
      "{'featured_image_url': 'https://www.jpl.nasa.gov/spaceimages/images/largesize/PIA17900_hires.jpg',\n",
      " 'hemisphere_image_urls': [{'img_url': 'https://astrogeology.usgs.gov/cache/images/cfa62af2557222a02478f1fcd781d445_cerberus_enhanced.tif_full.jpg',\n",
      "                            'title': 'Cerberus Hemisphere'},\n",
      "                           {'img_url': 'https://astrogeology.usgs.gov/cache/images/3cdd1cbf5e0813bba925c9030d13b62e_schiaparelli_enhanced.tif_full.jpg',\n",
      "                            'title': 'Schiaparelli Hemisphere'},\n",
      "                           {'img_url': 'https://astrogeology.usgs.gov/cache/images/ae209b4e408bb6c3e67b6af38168cf28_syrtis_major_enhanced.tif_full.jpg',\n",
      "                            'title': 'Syrtis Major Hemisphere'},\n",
      "                           {'img_url': 'https://astrogeology.usgs.gov/cache/images/7cf2da4bf549ed01c17f206327be4db7_valles_marineris_enhanced.tif_full.jpg',\n",
      "                            'title': 'Valles Marineris Hemisphere'}],\n",
      " 'mars_table': '<table class=\"tablepress tablepress-id-p-mars\" '\n",
      "               'id=\"tablepress-p-mars\"><tbody><tr class=\"row-1 odd\"><td '\n",
      "               'class=\"column-1\"><strong>Equatorial Diameter:</strong></td><td '\n",
      "               'class=\"column-2\">6,792 km<br/></td></tr><tr class=\"row-2 '\n",
      "               'even\"><td class=\"column-1\"><strong>Polar '\n",
      "               'Diameter:</strong></td><td class=\"column-2\">6,752 '\n",
      "               'km<br/></td></tr><tr class=\"row-3 odd\"><td '\n",
      "               'class=\"column-1\"><strong>Mass:</strong></td><td '\n",
      "               'class=\"column-2\">6.39 × 10^23 kg<br/> (0.11 '\n",
      "               'Earths)</td></tr><tr class=\"row-4 even\"><td '\n",
      "               'class=\"column-1\"><strong>Moons:</strong></td><td '\n",
      "               'class=\"column-2\">2 (<a '\n",
      "               'href=\"https://space-facts.com/moons/phobos/\">Phobos</a> &amp; '\n",
      "               '<a '\n",
      "               'href=\"https://space-facts.com/moons/deimos/\">Deimos</a>)</td></tr><tr '\n",
      "               'class=\"row-5 odd\"><td class=\"column-1\"><strong>Orbit '\n",
      "               'Distance:</strong></td><td class=\"column-2\">227,943,824 '\n",
      "               'km<br/> (1.38 AU)</td></tr><tr class=\"row-6 even\"><td '\n",
      "               'class=\"column-1\"><strong>Orbit Period:</strong></td><td '\n",
      "               'class=\"column-2\">687 days (1.9 years)<br/></td></tr><tr '\n",
      "               'class=\"row-7 odd\"><td class=\"column-1\"><strong>Surface '\n",
      "               'Temperature: </strong></td><td class=\"column-2\">-87 to -5 '\n",
      "               '°C</td></tr><tr class=\"row-8 even\"><td '\n",
      "               'class=\"column-1\"><strong>First Record:</strong></td><td '\n",
      "               'class=\"column-2\">2nd millennium BC</td></tr><tr class=\"row-9 '\n",
      "               'odd\"><td class=\"column-1\"><strong>Recorded '\n",
      "               'By:</strong></td><td class=\"column-2\">Egyptian '\n",
      "               'astronomers</td></tr></tbody></table>',\n",
      " 'mars_weather': 'InSight sol 455 (2020-03-08) low -95.4ºC (-139.8ºF) high '\n",
      "                 '-13.0ºC (8.5ºF)\\n'\n",
      "                 'winds from the SSE at 6.0 m/s (13.5 mph) gusting to 20.7 m/s '\n",
      "                 '(46.2 mph)\\n'\n",
      "                 'pressure at 6.40 hPa',\n",
      " 'news_p': 'NASA chose a seventh-grader from Virginia as winner of the '\n",
      "           \"agency's 'Name the Rover' essay contest. Alexander Mather's entry \"\n",
      "           \"for 'Perseverance' was voted tops among 28,000 entries. \",\n",
      " 'news_title': \"Virginia Middle School Student Earns Honor of Naming NASA's \"\n",
      "               'Next Mars Rover'}\n"
     ]
    }
   ],
   "source": [
    "# Create a dictionary that contains all of our return values\n",
    "dict_mars = {\n",
    "    \"news_title\": news_title,\n",
    "    \"news_p\": news_p,\n",
    "    \"mars_weather\": mars_weather,\n",
    "    \"featured_image_url\": featured_image_url,\n",
    "    \"hemisphere_image_urls\": hemisphere_image_urls,\n",
    "    \"mars_table\": mars_table}\n",
    "\n",
    "pprint(dict_mars)"
   ]
  },
  {
   "cell_type": "code",
   "execution_count": 45,
   "metadata": {},
   "outputs": [
    {
     "name": "stdout",
     "output_type": "stream",
     "text": [
      "'Cerberus Hemisphere'\n",
      "'https://astrogeology.usgs.gov/cache/images/cfa62af2557222a02478f1fcd781d445_cerberus_enhanced.tif_full.jpg'\n",
      "'Schiaparelli Hemisphere'\n",
      "'https://astrogeology.usgs.gov/cache/images/3cdd1cbf5e0813bba925c9030d13b62e_schiaparelli_enhanced.tif_full.jpg'\n",
      "'Syrtis Major Hemisphere'\n",
      "'https://astrogeology.usgs.gov/cache/images/ae209b4e408bb6c3e67b6af38168cf28_syrtis_major_enhanced.tif_full.jpg'\n",
      "'Valles Marineris Hemisphere'\n",
      "'https://astrogeology.usgs.gov/cache/images/7cf2da4bf549ed01c17f206327be4db7_valles_marineris_enhanced.tif_full.jpg'\n"
     ]
    }
   ],
   "source": [
    "# pprint(dict_mars[\"news_title\"])\n",
    "# pprint(dict_mars[\"news_p\"])\n",
    "# pprint(dict_mars[\"featured_image_url\"])\n",
    "# pprint(dict_mars[\"mars_weather\"])\n",
    "# pprint(dict_mars[\"mars_table\"])\n",
    "# pprint(dict_mars[\"hemisphere_image_urls\"][0][\"title\"])\n",
    "# pprint(dict_mars[\"hemisphere_image_urls\"][0][\"img_url\"])\n",
    "# pprint(dict_mars[\"hemisphere_image_urls\"][1][\"title\"])\n",
    "# pprint(dict_mars[\"hemisphere_image_urls\"][1][\"img_url\"])\n",
    "# pprint(dict_mars[\"hemisphere_image_urls\"][2][\"title\"])\n",
    "# pprint(dict_mars[\"hemisphere_image_urls\"][2][\"img_url\"])\n",
    "# pprint(dict_mars[\"hemisphere_image_urls\"][3][\"title\"])\n",
    "# pprint(dict_mars[\"hemisphere_image_urls\"][3][\"img_url\"])"
   ]
  },
  {
   "cell_type": "code",
   "execution_count": 46,
   "metadata": {},
   "outputs": [],
   "source": [
    "# import pymongo"
   ]
  },
  {
   "cell_type": "code",
   "execution_count": 47,
   "metadata": {},
   "outputs": [
    {
     "data": {
      "text/plain": [
       "<pymongo.results.InsertOneResult at 0x25bc67cce88>"
      ]
     },
     "execution_count": 47,
     "metadata": {},
     "output_type": "execute_result"
    }
   ],
   "source": [
    "# # Initialize PyMongo to work with MongoDBs\n",
    "# conn = 'mongodb://localhost:27017'\n",
    "# client = pymongo.MongoClient(conn)\n",
    "\n",
    "# # Define database and collection\n",
    "# db = client.mars_db\n",
    "\n",
    "# # Refresh database (i.e. drop table/collection)\n",
    "# db.mars_data.drop()\n",
    "\n",
    "# # Re-create the collection\n",
    "# mars_collection = db.mars_data\n",
    "# mars_collection.insert_one(dict_mars)"
   ]
  },
  {
   "cell_type": "code",
   "execution_count": 53,
   "metadata": {},
   "outputs": [],
   "source": [
    "# conn = 'mongodb://localhost:27017'\n",
    "# client = pymongo.MongoClient(conn)\n",
    "# # Define database and collection\n",
    "# db = client.mars_db\n",
    "\n",
    "# # Re-create the collection\n",
    "# mars_collection = db.mars_data.find()"
   ]
  },
  {
   "cell_type": "code",
   "execution_count": 55,
   "metadata": {},
   "outputs": [
    {
     "name": "stdout",
     "output_type": "stream",
     "text": [
      "\"Virginia Middle School Student Earns Honor of Naming NASA's Next Mars Rover\"\n"
     ]
    }
   ],
   "source": [
    "# pprint(mars_collection[0][\"news_title\"])"
   ]
  },
  {
   "cell_type": "code",
   "execution_count": null,
   "metadata": {},
   "outputs": [],
   "source": []
  }
 ],
 "metadata": {
  "anaconda-cloud": {},
  "kernel_info": {
   "name": "python3"
  },
  "kernelspec": {
   "display_name": "Python 3",
   "language": "python",
   "name": "python3"
  },
  "language_info": {
   "codemirror_mode": {
    "name": "ipython",
    "version": 3
   },
   "file_extension": ".py",
   "mimetype": "text/x-python",
   "name": "python",
   "nbconvert_exporter": "python",
   "pygments_lexer": "ipython3",
   "version": "3.7.4"
  },
  "latex_envs": {
   "LaTeX_envs_menu_present": true,
   "autoclose": false,
   "autocomplete": true,
   "bibliofile": "biblio.bib",
   "cite_by": "apalike",
   "current_citInitial": 1,
   "eqLabelWithNumbers": true,
   "eqNumInitial": 1,
   "hotkeys": {
    "equation": "Ctrl-E",
    "itemize": "Ctrl-I"
   },
   "labels_anchors": false,
   "latex_user_defs": false,
   "report_style_numbering": false,
   "user_envs_cfg": false
  },
  "nteract": {
   "version": "0.2.0"
  }
 },
 "nbformat": 4,
 "nbformat_minor": 2
}
