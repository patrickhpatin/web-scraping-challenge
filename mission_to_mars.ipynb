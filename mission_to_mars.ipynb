{
 "cells": [
  {
   "cell_type": "markdown",
   "metadata": {},
   "source": [
    "# Mission to Mars\n",
    "\n",
    "## Step 1 - Scraping\n",
    "\n",
    "Complete your initial scraping using Jupyter Notebook, BeautifulSoup, Pandas, and Requests/Splinter.\n",
    "\n",
    "* Create a Jupyter Notebook file called `mission_to_mars.ipynb` and use this to complete all of your scraping and analysis tasks. The following outlines what you need to scrape."
   ]
  },
  {
   "cell_type": "code",
   "execution_count": 7,
   "metadata": {},
   "outputs": [],
   "source": [
    "# Dependencies\n",
    "import pandas as pd\n",
    "import time as time\n",
    "from splinter import Browser\n",
    "from bs4 import BeautifulSoup"
   ]
  },
  {
   "cell_type": "code",
   "execution_count": 8,
   "metadata": {},
   "outputs": [],
   "source": [
    "# Initialize the chrome browser\n",
    "# @NOTE: Replace the path with your actual path to the chromedriver\n",
    "executable_path = {\"executable_path\": \"C:\\Program Files\\Chrome\\chromedriver\"}\n",
    "browser = Browser(\"chrome\", **executable_path, headless=False)\n",
    "# This delay varies based on the user's internet speed and how fast the JavaScript loads on the destination page\n",
    "# 5 seems to work every time.  3 doesn't work at GT consistently.\n",
    "sleep_delay = 5"
   ]
  },
  {
   "cell_type": "code",
   "execution_count": 9,
   "metadata": {},
   "outputs": [],
   "source": [
    "# Function for navigating to a web page (we'll reuse this several times)\n",
    "def init_page(url):\n",
    "    # url = \"https://mars.nasa.gov/news/\"\n",
    "    browser.visit(url)\n",
    "    time.sleep(sleep_delay)\n",
    "\n",
    "    html = browser.html\n",
    "    ret_soup = BeautifulSoup(html, \"html.parser\")\n",
    "    return ret_soup\n",
    "\n",
    "# Function for following links on pages\n",
    "def click_link(button_text):\n",
    "    browser.click_link_by_partial_text(button_text)\n",
    "    time.sleep(sleep_delay)\n",
    "    \n",
    "    html = browser.html\n",
    "    ret_soup = BeautifulSoup(html, \"html.parser\")\n",
    "    return ret_soup\n",
    "\n",
    "# Function cleans up text by removing \"\\\", removing \" Enhanced\" and replacing \" with '\n",
    "def clean_text(text_to_clean):\n",
    "    cleaned_text = text_to_clean.replace(\"\\'\", \"'\")\n",
    "    cleaned_text = cleaned_text.replace('\"', \"'\")\n",
    "    cleaned_text = cleaned_text.replace(' Enhanced', \"\")\n",
    "    return cleaned_text"
   ]
  },
  {
   "cell_type": "markdown",
   "metadata": {},
   "source": [
    "### NASA Mars News\n",
    "\n",
    "* Scrape the [NASA Mars News Site](https://mars.nasa.gov/news/) and collect the latest News Title and Paragraph Text. Assign the text to variables that you can reference later.\n",
    "\n",
    "```python\n",
    "# Example:\n",
    "news_title = \"NASA's Next Mars Mission to Investigate Interior of Red Planet\"\n",
    "\n",
    "news_p = \"Preparation of NASA's next spacecraft to Mars, InSight, has ramped up this summer, on course for launch next May from Vandenberg Air Force Base in central California -- the first interplanetary launch in history from America's West Coast.\"\n",
    "```"
   ]
  },
  {
   "cell_type": "code",
   "execution_count": 6,
   "metadata": {},
   "outputs": [
    {
     "name": "stdout",
     "output_type": "stream",
     "text": [
      "Virginia Middle School Student Earns Honor of Naming NASA's Next Mars Rover\n",
      "NASA chose a seventh-grader from Virginia as winner of the agency's 'Name the Rover' essay contest. Alexander Mather's entry for 'Perseverance' was voted tops among 28,000 entries. \n"
     ]
    }
   ],
   "source": [
    "soup = init_page(\"https://mars.nasa.gov/news/\")\n",
    "\n",
    "news_title = clean_text(soup.find_all(\"div\", class_=\"content_title\")[1].find(\"a\").text)\n",
    "print(news_title)\n",
    "\n",
    "news_p = clean_text(soup.find_all(\"div\", class_=\"image_and_description_container\")[0].find(\"div\", class_=\"article_teaser_body\").text)\n",
    "print(news_p)"
   ]
  },
  {
   "cell_type": "markdown",
   "metadata": {},
   "source": [
    "### JPL Mars Space Images - Featured Image\n",
    "\n",
    "* Visit the url for JPL Featured Space Image [here](https://www.jpl.nasa.gov/spaceimages/?search=&category=Mars).\n",
    "\n",
    "* Use splinter to navigate the site and find the image url for the current Featured Mars Image and assign the url string to a variable called `featured_image_url`.\n",
    "\n",
    "* Make sure to find the image url to the full size `.jpg` image.\n",
    "\n",
    "* Make sure to save a complete url string for this image.\n",
    "\n",
    "```python\n",
    "# Example:\n",
    "featured_image_url = 'https://www.jpl.nasa.gov/spaceimages/images/largesize/PIA16225_hires.jpg'\n",
    "```"
   ]
  },
  {
   "cell_type": "code",
   "execution_count": 10,
   "metadata": {},
   "outputs": [
    {
     "name": "stderr",
     "output_type": "stream",
     "text": [
      "C:\\Users\\p_pat\\Anaconda3\\lib\\site-packages\\splinter\\driver\\webdriver\\__init__.py:528: FutureWarning: browser.find_link_by_partial_text is deprecated. Use browser.links.find_by_partial_text instead.\n",
      "  FutureWarning,\n"
     ]
    }
   ],
   "source": [
    "base_url = \"https://www.jpl.nasa.gov\"\n",
    "url = base_url + \"/spaceimages/?search=&category=Mars\"\n",
    "soup = init_page(url)\n",
    "soup = click_link(\"FULL IMAGE\")\n",
    "soup = click_link(\"more info\")"
   ]
  },
  {
   "cell_type": "code",
   "execution_count": 11,
   "metadata": {},
   "outputs": [
    {
     "name": "stdout",
     "output_type": "stream",
     "text": [
      "https://www.jpl.nasa.gov/spaceimages/images/largesize/PIA19639_hires.jpg\n"
     ]
    }
   ],
   "source": [
    "featured_image_url = soup.find(\"figure\", class_=\"lede\").find(\"a\")[\"href\"]\n",
    "featured_image_url = base_url + featured_image_url\n",
    "\n",
    "print(featured_image_url)"
   ]
  },
  {
   "cell_type": "markdown",
   "metadata": {},
   "source": [
    "### Mars Weather\n",
    "\n",
    "* Visit the Mars Weather twitter account [here](https://twitter.com/marswxreport?lang=en) and scrape the latest Mars weather tweet from the page. Save the tweet text for the weather report as a variable called `mars_weather`.\n",
    "* **Note: Be sure you are not signed in to twitter, or scraping may become more difficult.**\n",
    "\n",
    "```python\n",
    "# Example:\n",
    "mars_weather = 'Sol 1801 (Aug 30, 2017), Sunny, high -21C/-5F, low -80C/-112F, pressure at 8.82 hPa, daylight 06:09-17:55'\n",
    "```"
   ]
  },
  {
   "cell_type": "code",
   "execution_count": 12,
   "metadata": {},
   "outputs": [
    {
     "data": {
      "text/plain": [
       "'InSight sol 455 (2020-03-08) low -95.4ºC (-139.8ºF) high -13.0ºC (8.5ºF)\\nwinds from the SSE at 6.0 m/s (13.5 mph) gusting to 20.7 m/s (46.2 mph)\\npressure at 6.40 hPa'"
      ]
     },
     "execution_count": 12,
     "metadata": {},
     "output_type": "execute_result"
    }
   ],
   "source": [
    "soup = init_page(\"https://twitter.com/marswxreport?lang=en\")\n",
    "mars_weather = soup.find_all(\"span\", class_=\"css-901oao css-16my406 r-1qd0xha r-ad9z0x r-bcqeeo r-qvutc0\")[27].text\n",
    "mars_weather"
   ]
  },
  {
   "cell_type": "markdown",
   "metadata": {},
   "source": [
    "### Mars Facts\n",
    " * Visit the Mars Facts webpage [here](https://space-facts.com/mars/) and use Pandas to scrape the table containing facts about the planet including Diameter, Mass, etc.\n",
    " * Use Pandas to convert the data to a HTML table string.\n",
    " \n",
    " <table id=\"tablepress-p-mars-no-2\" class=\"tablepress tablepress-id-p-mars\"><tbody><tr class=\"row-1 odd\"><td class=\"column-1\"><strong>Equatorial Diameter:</strong></td><td class=\"column-2\">6,792 km<br></td></tr><tr class=\"row-2 even\"><td class=\"column-1\"><strong>Polar Diameter:</strong></td><td class=\"column-2\">6,752 km<br></td></tr><tr class=\"row-3 odd\"><td class=\"column-1\"><strong>Mass:</strong></td><td class=\"column-2\">6.39 × 10^23 kg<br> (0.11 Earths)</td></tr><tr class=\"row-4 even\"><td class=\"column-1\"><strong>Moons:</strong></td><td class=\"column-2\">2 (<a href=\"https://space-facts.com/moons/phobos/\">Phobos</a> &amp; <a href=\"https://space-facts.com/moons/deimos/\">Deimos</a>)</td></tr><tr class=\"row-5 odd\"><td class=\"column-1\"><strong>Orbit Distance:</strong></td><td class=\"column-2\">227,943,824 km<br> (1.38 AU)</td></tr><tr class=\"row-6 even\"><td class=\"column-1\"><strong>Orbit Period:</strong></td><td class=\"column-2\">687 days (1.9 years)<br></td></tr><tr class=\"row-7 odd\"><td class=\"column-1\"><strong>Surface Temperature: </strong></td><td class=\"column-2\">-87 to -5 °C</td></tr><tr class=\"row-8 even\"><td class=\"column-1\"><strong>First Record:</strong></td><td class=\"column-2\">2nd millennium BC</td></tr><tr class=\"row-9 odd\"><td class=\"column-1\"><strong>Recorded By:</strong></td><td class=\"column-2\">Egyptian astronomers</td></tr></tbody></table>"
   ]
  },
  {
   "cell_type": "code",
   "execution_count": 13,
   "metadata": {},
   "outputs": [
    {
     "name": "stdout",
     "output_type": "stream",
     "text": [
      "<table class=\"tablepress tablepress-id-p-mars\" id=\"tablepress-p-mars\"><tbody><tr class=\"row-1 odd\"><td class=\"column-1\"><strong>Equatorial Diameter:</strong></td><td class=\"column-2\">6,792 km<br/></td></tr><tr class=\"row-2 even\"><td class=\"column-1\"><strong>Polar Diameter:</strong></td><td class=\"column-2\">6,752 km<br/></td></tr><tr class=\"row-3 odd\"><td class=\"column-1\"><strong>Mass:</strong></td><td class=\"column-2\">6.39 × 10^23 kg<br/> (0.11 Earths)</td></tr><tr class=\"row-4 even\"><td class=\"column-1\"><strong>Moons:</strong></td><td class=\"column-2\">2 (<a href=\"https://space-facts.com/moons/phobos/\">Phobos</a> &amp; <a href=\"https://space-facts.com/moons/deimos/\">Deimos</a>)</td></tr><tr class=\"row-5 odd\"><td class=\"column-1\"><strong>Orbit Distance:</strong></td><td class=\"column-2\">227,943,824 km<br/> (1.38 AU)</td></tr><tr class=\"row-6 even\"><td class=\"column-1\"><strong>Orbit Period:</strong></td><td class=\"column-2\">687 days (1.9 years)<br/></td></tr><tr class=\"row-7 odd\"><td class=\"column-1\"><strong>Surface Temperature: </strong></td><td class=\"column-2\">-87 to -5 °C</td></tr><tr class=\"row-8 even\"><td class=\"column-1\"><strong>First Record:</strong></td><td class=\"column-2\">2nd millennium BC</td></tr><tr class=\"row-9 odd\"><td class=\"column-1\"><strong>Recorded By:</strong></td><td class=\"column-2\">Egyptian astronomers</td></tr></tbody></table>\n"
     ]
    }
   ],
   "source": [
    "soup = init_page(\"https://space-facts.com/mars/\")\n",
    "mars_table = soup.find(\"table\", class_=\"tablepress tablepress-id-p-mars\")\n",
    "print(mars_table)"
   ]
  },
  {
   "cell_type": "markdown",
   "metadata": {},
   "source": [
    "### Mars Hemispheres\n",
    "\n",
    "* Visit the USGS Astrogeology site [here](https://astrogeology.usgs.gov/search/results?q=hemisphere+enhanced&k1=target&v1=Mars) to obtain high resolution images for each of Mar's hemispheres.\n",
    "\n",
    "* You will need to click each of the links to the hemispheres in order to find the image url to the full resolution image.\n",
    "\n",
    "* Save both the image url string for the full resolution hemisphere image, and the Hemisphere title containing the hemisphere name. Use a Python dictionary to store the data using the keys `img_url` and `title`.\n",
    "\n",
    "* Append the dictionary with the image url string and the hemisphere title to a list. This list will contain one dictionary for each hemisphere.\n",
    "\n",
    "```python\n",
    "# Example:\n",
    "hemisphere_image_urls = [\n",
    "    {\"title\": \"Valles Marineris Hemisphere\", \"img_url\": \"...\"},\n",
    "    {\"title\": \"Cerberus Hemisphere\", \"img_url\": \"...\"},\n",
    "    {\"title\": \"Schiaparelli Hemisphere\", \"img_url\": \"...\"},\n",
    "    {\"title\": \"Syrtis Major Hemisphere\", \"img_url\": \"...\"},\n",
    "]"
   ]
  },
  {
   "cell_type": "code",
   "execution_count": 15,
   "metadata": {},
   "outputs": [
    {
     "name": "stdout",
     "output_type": "stream",
     "text": [
      "[{'title': 'Cerberus Hemisphere', 'img_url': 'https://astrogeology.usgs.gov/cache/images/cfa62af2557222a02478f1fcd781d445_cerberus_enhanced.tif_full.jpg'}, {'title': 'Schiaparelli Hemisphere', 'img_url': 'https://astrogeology.usgs.gov/cache/images/3cdd1cbf5e0813bba925c9030d13b62e_schiaparelli_enhanced.tif_full.jpg'}, {'title': 'Syrtis Major Hemisphere', 'img_url': 'https://astrogeology.usgs.gov/cache/images/ae209b4e408bb6c3e67b6af38168cf28_syrtis_major_enhanced.tif_full.jpg'}, {'title': 'Valles Marineris Hemisphere', 'img_url': 'https://astrogeology.usgs.gov/cache/images/7cf2da4bf549ed01c17f206327be4db7_valles_marineris_enhanced.tif_full.jpg'}]\n"
     ]
    }
   ],
   "source": [
    "hemisphere_image_urls = []\n",
    "base_url = \"https://astrogeology.usgs.gov\"\n",
    "\n",
    "for i in range(4):\n",
    "    soup = init_page(\"https://astrogeology.usgs.gov/search/results?q=hemisphere+enhanced&k1=target&v1=Mars\")\n",
    "    title = soup.find(\"div\", class_=\"collapsible results\").find_all(\"h3\")[i].text\n",
    "    \n",
    "    soup = click_link(title)\n",
    "    img_url = base_url + soup.find(\"img\", class_=\"wide-image\")[\"src\"]\n",
    "    title = clean_text(title)\n",
    "    \n",
    "    hemisphere_image_urls.append({\"title\": title, \"img_url\": img_url})\n",
    "\n",
    "print(hemisphere_image_urls)"
   ]
  },
  {
   "cell_type": "code",
   "execution_count": 16,
   "metadata": {},
   "outputs": [],
   "source": [
    "# Create a dictionary that contains all of our return values\n",
    "dict_mars = [{\n",
    "    \"news_title\": news_title,\n",
    "    \"news_p\": news_p,\n",
    "    \"featured_image_url\": featured_image_url,\n",
    "    \"hemisphere_image_urls\": hemisphere_image_urls,\n",
    "    \"mars_table\": mars_table}]"
   ]
  },
  {
   "cell_type": "code",
   "execution_count": 17,
   "metadata": {},
   "outputs": [
    {
     "data": {
      "text/plain": [
       "{'news_title': \"Virginia Middle School Student Earns Honor of Naming NASA's Next Mars Rover\",\n",
       " 'news_p': \"NASA chose a seventh-grader from Virginia as winner of the agency's 'Name the Rover' essay contest. Alexander Mather's entry for 'Perseverance' was voted tops among 28,000 entries. \",\n",
       " 'featured_image_url': 'https://www.jpl.nasa.gov/spaceimages/images/largesize/PIA19639_hires.jpg',\n",
       " 'hemisphere_image_urls': [{'title': 'Cerberus Hemisphere',\n",
       "   'img_url': 'https://astrogeology.usgs.gov/cache/images/cfa62af2557222a02478f1fcd781d445_cerberus_enhanced.tif_full.jpg'},\n",
       "  {'title': 'Schiaparelli Hemisphere',\n",
       "   'img_url': 'https://astrogeology.usgs.gov/cache/images/3cdd1cbf5e0813bba925c9030d13b62e_schiaparelli_enhanced.tif_full.jpg'},\n",
       "  {'title': 'Syrtis Major Hemisphere',\n",
       "   'img_url': 'https://astrogeology.usgs.gov/cache/images/ae209b4e408bb6c3e67b6af38168cf28_syrtis_major_enhanced.tif_full.jpg'},\n",
       "  {'title': 'Valles Marineris Hemisphere',\n",
       "   'img_url': 'https://astrogeology.usgs.gov/cache/images/7cf2da4bf549ed01c17f206327be4db7_valles_marineris_enhanced.tif_full.jpg'}],\n",
       " 'mars_table': <table class=\"tablepress tablepress-id-p-mars\" id=\"tablepress-p-mars\"><tbody><tr class=\"row-1 odd\"><td class=\"column-1\"><strong>Equatorial Diameter:</strong></td><td class=\"column-2\">6,792 km<br/></td></tr><tr class=\"row-2 even\"><td class=\"column-1\"><strong>Polar Diameter:</strong></td><td class=\"column-2\">6,752 km<br/></td></tr><tr class=\"row-3 odd\"><td class=\"column-1\"><strong>Mass:</strong></td><td class=\"column-2\">6.39 × 10^23 kg<br/> (0.11 Earths)</td></tr><tr class=\"row-4 even\"><td class=\"column-1\"><strong>Moons:</strong></td><td class=\"column-2\">2 (<a href=\"https://space-facts.com/moons/phobos/\">Phobos</a> &amp; <a href=\"https://space-facts.com/moons/deimos/\">Deimos</a>)</td></tr><tr class=\"row-5 odd\"><td class=\"column-1\"><strong>Orbit Distance:</strong></td><td class=\"column-2\">227,943,824 km<br/> (1.38 AU)</td></tr><tr class=\"row-6 even\"><td class=\"column-1\"><strong>Orbit Period:</strong></td><td class=\"column-2\">687 days (1.9 years)<br/></td></tr><tr class=\"row-7 odd\"><td class=\"column-1\"><strong>Surface Temperature: </strong></td><td class=\"column-2\">-87 to -5 °C</td></tr><tr class=\"row-8 even\"><td class=\"column-1\"><strong>First Record:</strong></td><td class=\"column-2\">2nd millennium BC</td></tr><tr class=\"row-9 odd\"><td class=\"column-1\"><strong>Recorded By:</strong></td><td class=\"column-2\">Egyptian astronomers</td></tr></tbody></table>}"
      ]
     },
     "execution_count": 17,
     "metadata": {},
     "output_type": "execute_result"
    }
   ],
   "source": [
    "dict_mars[0]"
   ]
  },
  {
   "cell_type": "code",
   "execution_count": null,
   "metadata": {},
   "outputs": [],
   "source": []
  }
 ],
 "metadata": {
  "anaconda-cloud": {},
  "kernel_info": {
   "name": "python3"
  },
  "kernelspec": {
   "display_name": "Python 3",
   "language": "python",
   "name": "python3"
  },
  "language_info": {
   "codemirror_mode": {
    "name": "ipython",
    "version": 3
   },
   "file_extension": ".py",
   "mimetype": "text/x-python",
   "name": "python",
   "nbconvert_exporter": "python",
   "pygments_lexer": "ipython3",
   "version": "3.7.4"
  },
  "latex_envs": {
   "LaTeX_envs_menu_present": true,
   "autoclose": false,
   "autocomplete": true,
   "bibliofile": "biblio.bib",
   "cite_by": "apalike",
   "current_citInitial": 1,
   "eqLabelWithNumbers": true,
   "eqNumInitial": 1,
   "hotkeys": {
    "equation": "Ctrl-E",
    "itemize": "Ctrl-I"
   },
   "labels_anchors": false,
   "latex_user_defs": false,
   "report_style_numbering": false,
   "user_envs_cfg": false
  },
  "nteract": {
   "version": "0.2.0"
  }
 },
 "nbformat": 4,
 "nbformat_minor": 2
}
